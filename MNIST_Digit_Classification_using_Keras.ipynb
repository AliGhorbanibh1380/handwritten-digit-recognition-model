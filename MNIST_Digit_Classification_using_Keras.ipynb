{
  "nbformat": 4,
  "nbformat_minor": 0,
  "metadata": {
    "colab": {
      "provenance": [],
      "authorship_tag": "ABX9TyMEYIec5PrhaakYenhikGop",
      "include_colab_link": true
    },
    "kernelspec": {
      "name": "python3",
      "display_name": "Python 3"
    },
    "language_info": {
      "name": "python"
    }
  },
  "cells": [
    {
      "cell_type": "markdown",
      "metadata": {
        "id": "view-in-github",
        "colab_type": "text"
      },
      "source": [
        "<a href=\"https://colab.research.google.com/github/AliGhorbanibh1380/handwritten-digit-recognition-model/blob/main/MNIST_Digit_Classification_using_Keras.ipynb\" target=\"_parent\"><img src=\"https://colab.research.google.com/assets/colab-badge.svg\" alt=\"Open In Colab\"/></a>"
      ]
    },
    {
      "cell_type": "markdown",
      "source": [
        "# MNIST Digit Classification using Keras  \n",
        "\n",
        "In this notebook, we will build a simple neural network to classify handwritten digits from the MNIST dataset. The MNIST dataset contains 60,000 training images and 10,000 testing images of handwritten digits (0-9).  \n",
        "\n",
        "## Import Libraries  \n",
        "\n",
        "First, we need to import the necessary libraries to create and train our neural network."
      ],
      "metadata": {
        "id": "O5ueC2PQAp7e"
      }
    },
    {
      "cell_type": "code",
      "execution_count": null,
      "metadata": {
        "id": "v6q9l48DAoNa"
      },
      "outputs": [],
      "source": [
        "# Import necessary libraries\n",
        "from keras.datasets import mnist  # for downloading the MNIST dataset\n",
        "from keras import models\n",
        "from keras import layers\n",
        "from keras.utils import to_categorical"
      ]
    },
    {
      "cell_type": "markdown",
      "source": [
        "## Download and Prepare the MNIST Dataset  \n",
        "\n",
        "Next, we will load the MNIST dataset and preprocess the images and labels for training the model. The dataset will be divided into training and testing sets."
      ],
      "metadata": {
        "id": "de_Lycn0AuWg"
      }
    },
    {
      "cell_type": "code",
      "source": [
        "# Downloading the MNIST dataset\n",
        "(train_images, train_labels), (test_images, test_labels) = mnist.load_data()\n",
        "# Our train_images shape: (60000, 28, 28) and our train_labels shape: (60000,)"
      ],
      "metadata": {
        "colab": {
          "base_uri": "https://localhost:8080/"
        },
        "id": "mWFYmsc-AvAB",
        "outputId": "1eef6b16-df20-422f-bc51-bb735cbfd8c3"
      },
      "execution_count": null,
      "outputs": [
        {
          "output_type": "stream",
          "name": "stdout",
          "text": [
            "Downloading data from https://storage.googleapis.com/tensorflow/tf-keras-datasets/mnist.npz\n",
            "11490434/11490434 [==============================] - 0s 0us/step\n"
          ]
        }
      ]
    },
    {
      "cell_type": "markdown",
      "source": [
        "## Data Preprocessing  \n",
        "\n",
        "We need to preprocess the data to make it suitable for training a neural network. This includes reshaping the images and normalizing the pixel values. Additionally, we will convert the labels into a one-hot encoded format."
      ],
      "metadata": {
        "id": "Nb2FNfN3AwtH"
      }
    },
    {
      "cell_type": "code",
      "source": [
        "# Reshape the images to 2D (60000, 28 * 28)\n",
        "train_images = train_images.reshape((60000, 28 * 28))\n",
        "test_images = test_images.reshape((10000, 28 * 28))\n",
        "\n",
        "# Normalize the pixel values from integers into floats between 0 and 1\n",
        "train_images = train_images.astype('float32') / 255\n",
        "test_images = test_images.astype('float32') / 255\n",
        "\n",
        "# One-hot encode the labels\n",
        "train_labels = to_categorical(train_labels)  # making vector for each label (one-hot encoding)\n",
        "test_labels = to_categorical(test_labels)"
      ],
      "metadata": {
        "id": "CMSQlupXA0MP"
      },
      "execution_count": null,
      "outputs": []
    },
    {
      "cell_type": "markdown",
      "source": [
        "## Network Architecture  \n",
        "\n",
        "We will define our neural network architecture. This simple model will consist of two layers: a hidden layer with 512 neurons and an output layer with 10 neurons (one for each digit)."
      ],
      "metadata": {
        "id": "PEddZ0OhA3C0"
      }
    },
    {
      "cell_type": "code",
      "source": [
        "# Define the network architecture\n",
        "network = models.Sequential()\n",
        "network.add(layers.Dense(512, activation='relu', input_shape=(28 * 28,)))  # Hidden layer with ReLU activation\n",
        "network.add(layers.Dense(10, activation='softmax'))  # Output layer with softmax activation"
      ],
      "metadata": {
        "id": "qnA0ScuoA49U"
      },
      "execution_count": null,
      "outputs": []
    },
    {
      "cell_type": "markdown",
      "source": [
        "## Compile the Model  \n",
        "\n",
        "Before we can train the model, we need to compile it. This step includes selecting the optimizer, loss function, and metrics to evaluate model performance during training."
      ],
      "metadata": {
        "id": "u1a5UtxKA6hm"
      }
    },
    {
      "cell_type": "code",
      "source": [
        "# Compile the model\n",
        "network.compile(optimizer='rmsprop',\n",
        "                loss='categorical_crossentropy',\n",
        "                metrics=['accuracy'])"
      ],
      "metadata": {
        "id": "T0O9_U-sA8bU"
      },
      "execution_count": null,
      "outputs": []
    },
    {
      "cell_type": "markdown",
      "source": [
        "## Train the Model  \n",
        "\n",
        "Now, we will train the model using our training data. We will specify the number of epochs and the batch size for the training process. The epochs define how many times the learning algorithm will work through the entire training dataset."
      ],
      "metadata": {
        "id": "QJ15NUR2A9tU"
      }
    },
    {
      "cell_type": "code",
      "source": [
        "# Train the model\n",
        "network.fit(train_images, train_labels, epochs=5, batch_size=128)"
      ],
      "metadata": {
        "colab": {
          "base_uri": "https://localhost:8080/"
        },
        "id": "-GZOsmVbA-Vz",
        "outputId": "cbd98993-1b9f-4603-cf88-ed24702d5fe8"
      },
      "execution_count": null,
      "outputs": [
        {
          "output_type": "stream",
          "name": "stdout",
          "text": [
            "Epoch 1/5\n",
            "469/469 [==============================] - 8s 16ms/step - loss: 0.2617 - accuracy: 0.9245\n",
            "Epoch 2/5\n",
            "469/469 [==============================] - 4s 10ms/step - loss: 0.1072 - accuracy: 0.9689\n",
            "Epoch 3/5\n",
            "469/469 [==============================] - 4s 9ms/step - loss: 0.0708 - accuracy: 0.9799\n",
            "Epoch 4/5\n",
            "469/469 [==============================] - 8s 16ms/step - loss: 0.0507 - accuracy: 0.9845\n",
            "Epoch 5/5\n",
            "469/469 [==============================] - 7s 15ms/step - loss: 0.0388 - accuracy: 0.9886\n"
          ]
        },
        {
          "output_type": "execute_result",
          "data": {
            "text/plain": [
              "<keras.src.callbacks.History at 0x7cd3b20157b0>"
            ]
          },
          "metadata": {},
          "execution_count": 6
        }
      ]
    },
    {
      "cell_type": "markdown",
      "source": [
        "## Evaluation  \n",
        "\n",
        "After training, we can evaluate the model's performance on the test dataset. This step helps us understand how well the model generalizes to unseen data."
      ],
      "metadata": {
        "id": "yxdEGsGvBBEG"
      }
    },
    {
      "cell_type": "code",
      "source": [
        "# Evaluate the model\n",
        "test_loss, test_acc = network.evaluate(test_images, test_labels)\n",
        "print(f'Test accuracy: {test_acc:.4f}')"
      ],
      "metadata": {
        "colab": {
          "base_uri": "https://localhost:8080/"
        },
        "id": "vEEO0r_-BCup",
        "outputId": "e07f19f3-c89c-4155-e393-67211a91392c"
      },
      "execution_count": null,
      "outputs": [
        {
          "output_type": "stream",
          "name": "stdout",
          "text": [
            "313/313 [==============================] - 2s 6ms/step - loss: 0.0719 - accuracy: 0.9781\n",
            "Test accuracy: 0.9781\n"
          ]
        }
      ]
    },
    {
      "cell_type": "markdown",
      "source": [
        "## Conclusion  \n",
        "\n",
        "In this notebook, we constructed a simple neural network to classify handwritten digits using the MNIST dataset. The model was trained successfully, achieving a satisfactory accuracy on the test set. Possible improvements include experimenting with different network architectures, optimization techniques, and data augmentation strategies."
      ],
      "metadata": {
        "id": "BaSeB2G8BEtW"
      }
    }
  ]
}